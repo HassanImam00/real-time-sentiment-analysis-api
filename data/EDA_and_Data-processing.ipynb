{
  "nbformat": 4,
  "nbformat_minor": 0,
  "metadata": {
    "colab": {
      "provenance": []
    },
    "kernelspec": {
      "name": "python3",
      "display_name": "Python 3"
    },
    "language_info": {
      "name": "python"
    }
  },
  "cells": [
    {
      "cell_type": "markdown",
      "source": [
        "# Exploratory Data Analysis (EDA)\n",
        "**Install Necessary Libraries**\n",
        "\n",
        "Activate your virtual environment and install the required packages:"
      ],
      "metadata": {
        "id": "Mbg5lz7mlY1J"
      }
    },
    {
      "cell_type": "code",
      "execution_count": 1,
      "metadata": {
        "colab": {
          "base_uri": "https://localhost:8080/"
        },
        "id": "Nko6CvtqiM6A",
        "outputId": "c2c2b27d-f02d-445e-eb93-4c069c34aad8"
      },
      "outputs": [
        {
          "output_type": "stream",
          "name": "stdout",
          "text": [
            "Requirement already satisfied: pandas in /usr/local/lib/python3.10/dist-packages (2.2.2)\n",
            "Requirement already satisfied: numpy in /usr/local/lib/python3.10/dist-packages (1.26.4)\n",
            "Requirement already satisfied: matplotlib in /usr/local/lib/python3.10/dist-packages (3.7.1)\n",
            "Requirement already satisfied: seaborn in /usr/local/lib/python3.10/dist-packages (0.13.2)\n",
            "Requirement already satisfied: nltk in /usr/local/lib/python3.10/dist-packages (3.8.1)\n",
            "Requirement already satisfied: python-dateutil>=2.8.2 in /usr/local/lib/python3.10/dist-packages (from pandas) (2.8.2)\n",
            "Requirement already satisfied: pytz>=2020.1 in /usr/local/lib/python3.10/dist-packages (from pandas) (2024.2)\n",
            "Requirement already satisfied: tzdata>=2022.7 in /usr/local/lib/python3.10/dist-packages (from pandas) (2024.2)\n",
            "Requirement already satisfied: contourpy>=1.0.1 in /usr/local/lib/python3.10/dist-packages (from matplotlib) (1.3.0)\n",
            "Requirement already satisfied: cycler>=0.10 in /usr/local/lib/python3.10/dist-packages (from matplotlib) (0.12.1)\n",
            "Requirement already satisfied: fonttools>=4.22.0 in /usr/local/lib/python3.10/dist-packages (from matplotlib) (4.54.1)\n",
            "Requirement already satisfied: kiwisolver>=1.0.1 in /usr/local/lib/python3.10/dist-packages (from matplotlib) (1.4.7)\n",
            "Requirement already satisfied: packaging>=20.0 in /usr/local/lib/python3.10/dist-packages (from matplotlib) (24.1)\n",
            "Requirement already satisfied: pillow>=6.2.0 in /usr/local/lib/python3.10/dist-packages (from matplotlib) (10.4.0)\n",
            "Requirement already satisfied: pyparsing>=2.3.1 in /usr/local/lib/python3.10/dist-packages (from matplotlib) (3.2.0)\n",
            "Requirement already satisfied: click in /usr/local/lib/python3.10/dist-packages (from nltk) (8.1.7)\n",
            "Requirement already satisfied: joblib in /usr/local/lib/python3.10/dist-packages (from nltk) (1.4.2)\n",
            "Requirement already satisfied: regex>=2021.8.3 in /usr/local/lib/python3.10/dist-packages (from nltk) (2024.9.11)\n",
            "Requirement already satisfied: tqdm in /usr/local/lib/python3.10/dist-packages (from nltk) (4.66.5)\n",
            "Requirement already satisfied: six>=1.5 in /usr/local/lib/python3.10/dist-packages (from python-dateutil>=2.8.2->pandas) (1.16.0)\n"
          ]
        }
      ],
      "source": [
        "pip install pandas numpy matplotlib seaborn nltk\n"
      ]
    },
    {
      "cell_type": "markdown",
      "source": [
        "**Load the Dataset**\n",
        "\n",
        "Create a new script data_preprocessing.py in your project root or use a Jupyter Notebook."
      ],
      "metadata": {
        "id": "RCUy8-hXlzKk"
      }
    },
    {
      "cell_type": "code",
      "source": [
        "import pandas as pd\n",
        "\n",
        "# Load the dataset\n",
        "df = pd.read_csv('Reviews.csv')\n",
        "\n",
        "# Display the first few rows\n",
        "print(df.head())\n"
      ],
      "metadata": {
        "colab": {
          "base_uri": "https://localhost:8080/"
        },
        "id": "Pzzjx2xdkSQh",
        "outputId": "fbc66bf4-2334-4429-b362-38c1481f8603"
      },
      "execution_count": 2,
      "outputs": [
        {
          "output_type": "stream",
          "name": "stdout",
          "text": [
            "   Id   ProductId          UserId                      ProfileName  \\\n",
            "0   1  B001E4KFG0  A3SGXH7AUHU8GW                       delmartian   \n",
            "1   2  B00813GRG4  A1D87F6ZCVE5NK                           dll pa   \n",
            "2   3  B000LQOCH0   ABXLMWJIXXAIN  Natalia Corres \"Natalia Corres\"   \n",
            "3   4  B000UA0QIQ  A395BORC6FGVXV                             Karl   \n",
            "4   5  B006K2ZZ7K  A1UQRSCLF8GW1T    Michael D. Bigham \"M. Wassir\"   \n",
            "\n",
            "   HelpfulnessNumerator  HelpfulnessDenominator  Score        Time  \\\n",
            "0                     1                       1      5  1303862400   \n",
            "1                     0                       0      1  1346976000   \n",
            "2                     1                       1      4  1219017600   \n",
            "3                     3                       3      2  1307923200   \n",
            "4                     0                       0      5  1350777600   \n",
            "\n",
            "                 Summary                                               Text  \n",
            "0  Good Quality Dog Food  I have bought several of the Vitality canned d...  \n",
            "1      Not as Advertised  Product arrived labeled as Jumbo Salted Peanut...  \n",
            "2  \"Delight\" says it all  This is a confection that has been around a fe...  \n",
            "3         Cough Medicine  If you are looking for the secret ingredient i...  \n",
            "4            Great taffy  Great taffy at a great price.  There was a wid...  \n"
          ]
        }
      ]
    },
    {
      "cell_type": "markdown",
      "source": [
        "**Understand the Data Structure**"
      ],
      "metadata": {
        "id": "yFCFg_5Nl3JW"
      }
    },
    {
      "cell_type": "code",
      "source": [
        "# Get dataset information\n",
        "print(df.info())\n",
        "\n",
        "# Check for missing values\n",
        "print(df.isnull().sum())\n",
        "\n",
        "# View descriptive statistics\n",
        "print(df.describe())\n"
      ],
      "metadata": {
        "colab": {
          "base_uri": "https://localhost:8080/"
        },
        "id": "p0HERt-FkZD6",
        "outputId": "4f3f04bc-3103-4f2f-9f03-c3073f1ac6a9"
      },
      "execution_count": 3,
      "outputs": [
        {
          "output_type": "stream",
          "name": "stdout",
          "text": [
            "<class 'pandas.core.frame.DataFrame'>\n",
            "RangeIndex: 568454 entries, 0 to 568453\n",
            "Data columns (total 10 columns):\n",
            " #   Column                  Non-Null Count   Dtype \n",
            "---  ------                  --------------   ----- \n",
            " 0   Id                      568454 non-null  int64 \n",
            " 1   ProductId               568454 non-null  object\n",
            " 2   UserId                  568454 non-null  object\n",
            " 3   ProfileName             568428 non-null  object\n",
            " 4   HelpfulnessNumerator    568454 non-null  int64 \n",
            " 5   HelpfulnessDenominator  568454 non-null  int64 \n",
            " 6   Score                   568454 non-null  int64 \n",
            " 7   Time                    568454 non-null  int64 \n",
            " 8   Summary                 568427 non-null  object\n",
            " 9   Text                    568454 non-null  object\n",
            "dtypes: int64(5), object(5)\n",
            "memory usage: 43.4+ MB\n",
            "None\n",
            "Id                         0\n",
            "ProductId                  0\n",
            "UserId                     0\n",
            "ProfileName               26\n",
            "HelpfulnessNumerator       0\n",
            "HelpfulnessDenominator     0\n",
            "Score                      0\n",
            "Time                       0\n",
            "Summary                   27\n",
            "Text                       0\n",
            "dtype: int64\n",
            "                  Id  HelpfulnessNumerator  HelpfulnessDenominator  \\\n",
            "count  568454.000000         568454.000000            568454.00000   \n",
            "mean   284227.500000              1.743817                 2.22881   \n",
            "std    164098.679298              7.636513                 8.28974   \n",
            "min         1.000000              0.000000                 0.00000   \n",
            "25%    142114.250000              0.000000                 0.00000   \n",
            "50%    284227.500000              0.000000                 1.00000   \n",
            "75%    426340.750000              2.000000                 2.00000   \n",
            "max    568454.000000            866.000000               923.00000   \n",
            "\n",
            "               Score          Time  \n",
            "count  568454.000000  5.684540e+05  \n",
            "mean        4.183199  1.296257e+09  \n",
            "std         1.310436  4.804331e+07  \n",
            "min         1.000000  9.393408e+08  \n",
            "25%         4.000000  1.271290e+09  \n",
            "50%         5.000000  1.311120e+09  \n",
            "75%         5.000000  1.332720e+09  \n",
            "max         5.000000  1.351210e+09  \n"
          ]
        }
      ]
    },
    {
      "cell_type": "markdown",
      "source": [
        "**Analyze Review Scores Distribution**"
      ],
      "metadata": {
        "id": "NbREV6gfl_-6"
      }
    },
    {
      "cell_type": "code",
      "source": [
        "import matplotlib.pyplot as plt\n",
        "import seaborn as sns\n",
        "\n",
        "# Plot the distribution of review scores\n",
        "sns.countplot(x='Score', data=df)\n",
        "plt.title('Distribution of Review Scores')\n",
        "plt.xlabel('Review Score')\n",
        "plt.ylabel('Number of Reviews')\n",
        "plt.show()\n"
      ],
      "metadata": {
        "colab": {
          "base_uri": "https://localhost:8080/",
          "height": 472
        },
        "id": "I_9vg8qhkdm3",
        "outputId": "1a4d0eae-178a-493c-8589-10f13531d746"
      },
      "execution_count": 4,
      "outputs": [
        {
          "output_type": "display_data",
          "data": {
            "text/plain": [
              "<Figure size 640x480 with 1 Axes>"
            ],
            "image/png": "[encoded data removed]"
          },
          "metadata": {}
        }
      ]
    },
    {
      "cell_type": "markdown",
      "source": [
        "# Data Cleaning\n",
        "**Handle Missing Values**\n",
        "\n",
        "Identify columns with missing values:"
      ],
      "metadata": {
        "id": "wWG0NfH-mIAT"
      }
    },
    {
      "cell_type": "code",
      "source": [
        "# Check for missing values\n",
        "print(df.isnull().sum())\n"
      ],
      "metadata": {
        "colab": {
          "base_uri": "https://localhost:8080/"
        },
        "id": "HOBcomrakgp_",
        "outputId": "018244b8-200b-4cb7-aa93-463b43702a52"
      },
      "execution_count": 5,
      "outputs": [
        {
          "output_type": "stream",
          "name": "stdout",
          "text": [
            "Id                         0\n",
            "ProductId                  0\n",
            "UserId                     0\n",
            "ProfileName               26\n",
            "HelpfulnessNumerator       0\n",
            "HelpfulnessDenominator     0\n",
            "Score                      0\n",
            "Time                       0\n",
            "Summary                   27\n",
            "Text                       0\n",
            "dtype: int64\n"
          ]
        }
      ]
    },
    {
      "cell_type": "markdown",
      "source": [
        "Common columns with missing values are Summary and Text.\n",
        "\n",
        "Remove rows with missing Text data:"
      ],
      "metadata": {
        "id": "jLCV5ofkmNGF"
      }
    },
    {
      "cell_type": "code",
      "source": [
        "# Drop rows where 'Text' is NaN\n",
        "df = df.dropna(subset=['Text'])\n"
      ],
      "metadata": {
        "id": "brdBcZ_8kkdA"
      },
      "execution_count": 6,
      "outputs": []
    },
    {
      "cell_type": "markdown",
      "source": [
        "**Remove Duplicates**"
      ],
      "metadata": {
        "id": "BzdhCPcJmOva"
      }
    },
    {
      "cell_type": "code",
      "source": [
        "# Check for duplicates\n",
        "print(f\"Number of duplicate reviews: {df.duplicated().sum()}\")\n",
        "\n",
        "# Remove duplicate reviews\n",
        "df = df.drop_duplicates()\n"
      ],
      "metadata": {
        "colab": {
          "base_uri": "https://localhost:8080/"
        },
        "id": "mswrsnRjkndG",
        "outputId": "98b3e23e-c0f9-4dda-8f3c-fb734d4c26e4"
      },
      "execution_count": 7,
      "outputs": [
        {
          "output_type": "stream",
          "name": "stdout",
          "text": [
            "Number of duplicate reviews: 0\n"
          ]
        }
      ]
    },
    {
      "cell_type": "markdown",
      "source": [
        "**Normalize Text Data**\n",
        "\n",
        "Convert all text to lowercase and remove unwanted characters."
      ],
      "metadata": {
        "id": "R8747qwCmUby"
      }
    },
    {
      "cell_type": "code",
      "source": [
        "# Convert text to lowercase\n",
        "df['Text'] = df['Text'].str.lower()\n",
        "\n",
        "# Import string library to remove punctuation\n",
        "import string\n",
        "\n",
        "# Function to remove punctuation\n",
        "def remove_punctuation(text):\n",
        "    translator = str.maketrans('', '', string.punctuation)\n",
        "    return text.translate(translator)\n",
        "\n",
        "# Apply the function\n",
        "df['Text'] = df['Text'].apply(remove_punctuation)\n"
      ],
      "metadata": {
        "id": "fbha12h4kqCh"
      },
      "execution_count": 8,
      "outputs": []
    },
    {
      "cell_type": "markdown",
      "source": [
        "# Text Preprocessing\n",
        "\n",
        "We'll use NLTK for natural language processing tasks.\n",
        "\n",
        "\n",
        "**Install and Download NLTK Data**"
      ],
      "metadata": {
        "id": "ak0-dcLmmXuY"
      }
    },
    {
      "cell_type": "code",
      "source": [
        "import nltk\n",
        "\n",
        "nltk.download('punkt')\n",
        "nltk.download('stopwords')\n",
        "nltk.download('wordnet')\n"
      ],
      "metadata": {
        "colab": {
          "base_uri": "https://localhost:8080/"
        },
        "id": "8wbR5FMvks4C",
        "outputId": "b7ff1eea-4770-4cca-9c24-f330a265107f"
      },
      "execution_count": 9,
      "outputs": [
        {
          "output_type": "stream",
          "name": "stderr",
          "text": [
            "[nltk_data] Downloading package punkt to /root/nltk_data...\n",
            "[nltk_data]   Unzipping tokenizers/punkt.zip.\n",
            "[nltk_data] Downloading package stopwords to /root/nltk_data...\n",
            "[nltk_data]   Unzipping corpora/stopwords.zip.\n",
            "[nltk_data] Downloading package wordnet to /root/nltk_data...\n"
          ]
        },
        {
          "output_type": "execute_result",
          "data": {
            "text/plain": [
              "True"
            ]
          },
          "metadata": {},
          "execution_count": 9
        }
      ]
    },
    {
      "cell_type": "markdown",
      "source": [
        "**Tokenization**"
      ],
      "metadata": {
        "id": "vVr8s10BmfOG"
      }
    },
    {
      "cell_type": "code",
      "source": [
        "from nltk.tokenize import word_tokenize\n",
        "\n",
        "# Tokenize the 'Text' column\n",
        "df['Tokens'] = df['Text'].apply(word_tokenize)\n"
      ],
      "metadata": {
        "id": "wJ73-TKUkwX8"
      },
      "execution_count": 10,
      "outputs": []
    },
    {
      "cell_type": "markdown",
      "source": [
        "**Remove Stop Words**"
      ],
      "metadata": {
        "id": "QZz-CKxomift"
      }
    },
    {
      "cell_type": "code",
      "source": [
        "from nltk.corpus import stopwords\n",
        "\n",
        "stop_words = set(stopwords.words('english'))\n",
        "\n",
        "# Function to remove stop words\n",
        "def remove_stopwords(tokens):\n",
        "    return [word for word in tokens if word not in stop_words]\n",
        "\n",
        "# Apply the function\n",
        "df['Tokens'] = df['Tokens'].apply(remove_stopwords)\n"
      ],
      "metadata": {
        "id": "6q1pQn4hkzN1"
      },
      "execution_count": 11,
      "outputs": []
    },
    {
      "cell_type": "markdown",
      "source": [
        "**Lemmatization**"
      ],
      "metadata": {
        "id": "71eBR5eQmmIt"
      }
    },
    {
      "cell_type": "code",
      "source": [
        "from nltk.stem import WordNetLemmatizer\n",
        "\n",
        "lemmatizer = WordNetLemmatizer()\n",
        "\n",
        "# Function to lemmatize tokens\n",
        "def lemmatize_tokens(tokens):\n",
        "    return [lemmatizer.lemmatize(token) for token in tokens]\n",
        "\n",
        "# Apply the function\n",
        "df['Tokens'] = df['Tokens'].apply(lemmatize_tokens)\n"
      ],
      "metadata": {
        "id": "JHPh0x8jlBqt"
      },
      "execution_count": 12,
      "outputs": []
    },
    {
      "cell_type": "markdown",
      "source": [
        "# Data Labeling\n",
        "\n",
        "We'll convert numerical review scores into categorical sentiment labels.\n",
        "\n",
        "\n",
        "**Define Sentiment Labels**\n",
        "\n",
        "    \n",
        "    \n",
        "    \n",
        "\n",
        "\n",
        "\n",
        "*   **Positive:** Ratings of 4 or 5\n",
        "*   **Negative:** Ratings of 1 or 2\n",
        "*   **Neutral:** Rating of 3 (optional; for binary classification, you can exclude these)\n",
        "\n",
        "\n",
        "**Filter and Label the Data**\n",
        "\n",
        "For binary classification, exclude neutral reviews:"
      ],
      "metadata": {
        "id": "x3avg05RmpKA"
      }
    },
    {
      "cell_type": "code",
      "source": [
        "# Remove neutral reviews\n",
        "df = df[df['Score'] != 3]\n",
        "\n",
        "# Map scores to sentiments\n",
        "df['Sentiment'] = df['Score'].apply(lambda x: 'positive' if x > 3 else 'negative')\n"
      ],
      "metadata": {
        "colab": {
          "base_uri": "https://localhost:8080/"
        },
        "id": "QerGAK42lEc0",
        "outputId": "07fef17e-6a7b-4af7-b087-c71d5141d587"
      },
      "execution_count": 13,
      "outputs": [
        {
          "output_type": "stream",
          "name": "stderr",
          "text": [
            "<ipython-input-13-cfbb7e2bf9b9>:5: SettingWithCopyWarning: \n",
            "A value is trying to be set on a copy of a slice from a DataFrame.\n",
            "Try using .loc[row_indexer,col_indexer] = value instead\n",
            "\n",
            "See the caveats in the documentation: https://pandas.pydata.org/pandas-docs/stable/user_guide/indexing.html#returning-a-view-versus-a-copy\n",
            "  df['Sentiment'] = df['Score'].apply(lambda x: 'positive' if x > 3 else 'negative')\n"
          ]
        }
      ]
    },
    {
      "cell_type": "markdown",
      "source": [
        "**Check Class Distribution**"
      ],
      "metadata": {
        "id": "5x95ruwinVdY"
      }
    },
    {
      "cell_type": "code",
      "source": [
        "# Count of sentiments\n",
        "print(df['Sentiment'].value_counts())\n",
        "\n",
        "# Plot the distribution\n",
        "sns.countplot(x='Sentiment', data=df)\n",
        "plt.title('Sentiment Distribution')\n",
        "plt.show()\n"
      ],
      "metadata": {
        "colab": {
          "base_uri": "https://localhost:8080/",
          "height": 543
        },
        "id": "qbnVDz2ilGK8",
        "outputId": "d90581ad-1c7f-4f94-faef-5fa402ff2f76"
      },
      "execution_count": 14,
      "outputs": [
        {
          "output_type": "stream",
          "name": "stdout",
          "text": [
            "Sentiment\n",
            "positive    443777\n",
            "negative     82037\n",
            "Name: count, dtype: int64\n"
          ]
        },
        {
          "output_type": "display_data",
          "data": {
            "text/plain": [
              "<Figure size 640x480 with 1 Axes>"
            ],
            "image/png": "[encoded data removed]"
          },
          "metadata": {}
        }
      ]
    },
    {
      "cell_type": "markdown",
      "source": [
        "# Data Splitting\n",
        "\n",
        "**Prepare the Data**\n",
        "\n",
        "\n",
        "Join tokens back into a string for model input:"
      ],
      "metadata": {
        "id": "7u8uka5YnXdN"
      }
    },
    {
      "cell_type": "code",
      "source": [
        "# Join tokens into a single string\n",
        "df['Processed_Text'] = df['Tokens'].apply(lambda tokens: ' '.join(tokens))\n"
      ],
      "metadata": {
        "id": "qvPmVa5GlIjM"
      },
      "execution_count": 15,
      "outputs": []
    },
    {
      "cell_type": "markdown",
      "source": [
        "**Define Features and Labels**"
      ],
      "metadata": {
        "id": "qGBhXjymni8k"
      }
    },
    {
      "cell_type": "code",
      "source": [
        "X = df['Processed_Text']\n",
        "y = df['Sentiment']\n"
      ],
      "metadata": {
        "id": "4_AY-eDdlLHw"
      },
      "execution_count": 16,
      "outputs": []
    },
    {
      "cell_type": "markdown",
      "source": [
        "**Split into Training and Testing Sets**"
      ],
      "metadata": {
        "id": "DRHHT68mnrmO"
      }
    },
    {
      "cell_type": "code",
      "source": [
        "from sklearn.model_selection import train_test_split\n",
        "\n",
        "# Split the data (80% training, 20% testing)\n",
        "X_train, X_test, y_train, y_test = train_test_split(\n",
        "    X, y, test_size=0.2, stratify=y, random_state=42)\n"
      ],
      "metadata": {
        "id": "uEoZ85SclQvV"
      },
      "execution_count": 17,
      "outputs": []
    },
    {
      "cell_type": "markdown",
      "source": [
        "# Save Preprocessed Data\n",
        "\n",
        "\n",
        "**Export Data to CSV**"
      ],
      "metadata": {
        "id": "L1fExqKwnvHt"
      }
    },
    {
      "cell_type": "code",
      "source": [
        "# Combine features and labels\n",
        "train_data = pd.DataFrame({'Text': X_train, 'Sentiment': y_train})\n",
        "test_data = pd.DataFrame({'Text': X_test, 'Sentiment': y_test})\n",
        "\n",
        "# Save to CSV files\n",
        "train_data.to_csv('train_data.csv', index=False)\n",
        "test_data.to_csv('test_data.csv', index=False)\n"
      ],
      "metadata": {
        "id": "xHQYaJ3YlSpH"
      },
      "execution_count": 19,
      "outputs": []
    },
    {
      "cell_type": "code",
      "source": [],
      "metadata": {
        "id": "XfHVczFS-cr_"
      },
      "execution_count": null,
      "outputs": []
    }
  ]
}